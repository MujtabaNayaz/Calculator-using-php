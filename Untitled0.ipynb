{
  "nbformat": 4,
  "nbformat_minor": 0,
  "metadata": {
    "colab": {
      "name": "Untitled0.ipynb",
      "provenance": [],
      "include_colab_link": true
    },
    "kernelspec": {
      "name": "python3",
      "display_name": "Python 3"
    },
    "accelerator": "GPU"
  },
  "cells": [
    {
      "cell_type": "markdown",
      "metadata": {
        "id": "view-in-github",
        "colab_type": "text"
      },
      "source": [
        "<a href=\"https://colab.research.google.com/github/MujtabaNayaz/Calculator-using-php/blob/main/Untitled0.ipynb\" target=\"_parent\"><img src=\"https://colab.research.google.com/assets/colab-badge.svg\" alt=\"Open In Colab\"/></a>"
      ]
    },
    {
      "cell_type": "code",
      "metadata": {
        "colab": {
          "base_uri": "https://localhost:8080/"
        },
        "id": "IBP5BaOco_wf",
        "outputId": "71beb23f-14a2-4c3f-ab23-8b432b51ec2f"
      },
      "source": [
        "akash =  [23, 32, 78, 12]\n",
        "aparna = [21, 34, 54, 21]\n",
        "bhoomika = [23,65,78,12]\n",
        "\n",
        "totalSales = []\n",
        "\n",
        "for i in range(len(akash)) :\n",
        "  totalSales.append( akash[i] + aparna[i] + bhoomika[i])\n",
        "print(totalSales)\n"
      ],
      "execution_count": null,
      "outputs": [
        {
          "output_type": "stream",
          "text": [
            "[67, 131, 210, 45]\n"
          ],
          "name": "stdout"
        }
      ]
    },
    {
      "cell_type": "code",
      "metadata": {
        "colab": {
          "base_uri": "https://localhost:8080/"
        },
        "id": "SygyOUFAqB0x",
        "outputId": "95136bf0-0d42-4f18-f3be-e2b23e0b5e74"
      },
      "source": [
        "akash =  [23, 32, 78, 12]\n",
        "aparna = [21, 34, 54, 21]\n",
        "bhoomika = [23,65,78,12]\n",
        "\n",
        "for ele in zip(akash, aparna, bhoomika) :\n",
        "  print(ele , sum(ele))"
      ],
      "execution_count": null,
      "outputs": [
        {
          "output_type": "stream",
          "text": [
            "(23, 21, 23) 67\n",
            "(32, 34, 65) 131\n",
            "(78, 54, 78) 210\n",
            "(12, 21, 12) 45\n"
          ],
          "name": "stdout"
        }
      ]
    },
    {
      "cell_type": "code",
      "metadata": {
        "colab": {
          "base_uri": "https://localhost:8080/"
        },
        "id": "ui70RKqnqbDq",
        "outputId": "9e2f7d6c-9b91-4804-ad5d-500ff59a522b"
      },
      "source": [
        "harish = [34, 43, 23, 25, 20, 25]\n",
        "\n",
        "flag = True \n",
        "for ele in harish:\n",
        "  if ele < 20:\n",
        "    flag = False\n",
        "\n",
        "if flag == True:\n",
        "  print(\"Passed in all the subjects\")\n",
        "else:\n",
        "  print(\"Failed in one or more subjects\")"
      ],
      "execution_count": null,
      "outputs": [
        {
          "output_type": "stream",
          "text": [
            "Passed in all the subjects\n"
          ],
          "name": "stdout"
        }
      ]
    },
    {
      "cell_type": "code",
      "metadata": {
        "colab": {
          "base_uri": "https://localhost:8080/"
        },
        "id": "tPXA8IOyrYpz",
        "outputId": "787b013d-eb54-4e9d-ff3d-aa00e10732a2"
      },
      "source": [
        "harish = [34, 43, 23, 5, 20, 25]\n",
        "\n",
        "for ele in harish:\n",
        "  if ele < 20:\n",
        "    print(\"Failed in one or more subjects\")\n",
        "    break\n",
        "else:\n",
        "  print(\"Passed in all the subjects\")  "
      ],
      "execution_count": null,
      "outputs": [
        {
          "output_type": "stream",
          "text": [
            "Failed in one or more subjects\n"
          ],
          "name": "stdout"
        }
      ]
    },
    {
      "cell_type": "code",
      "metadata": {
        "colab": {
          "base_uri": "https://localhost:8080/"
        },
        "id": "rTrrjDvbr7XP",
        "outputId": "489b9a1c-d33f-4ebb-d45b-d3d7d80636ca"
      },
      "source": [
        "a = 25\n",
        "b = 10\n",
        "#large = True-statement if condition is satisfied else False-statement\n",
        "large = a if a > b else b \n",
        "print(large)"
      ],
      "execution_count": null,
      "outputs": [
        {
          "output_type": "stream",
          "text": [
            "25\n"
          ],
          "name": "stdout"
        }
      ]
    },
    {
      "cell_type": "code",
      "metadata": {
        "colab": {
          "base_uri": "https://localhost:8080/"
        },
        "id": "U85No84esHyi",
        "outputId": "9a844ddb-4078-4e32-b629-1ab869e86540"
      },
      "source": [
        "a = [1 , 2 ,3 ,4, 5] \n",
        "b = []\n",
        "for ele in a:\n",
        "  b.append(  ele * ele )\n",
        "print(b)"
      ],
      "execution_count": null,
      "outputs": [
        {
          "output_type": "stream",
          "text": [
            "[1, 4, 9, 16, 25]\n"
          ],
          "name": "stdout"
        }
      ]
    },
    {
      "cell_type": "code",
      "metadata": {
        "id": "bhnLxOBGt5rn"
      },
      "source": [
        "a = [1 , 2 ,3 ,4, 5 , 6, 7, 8] \n",
        "b = [ele * ele for ele in a]\n",
        "print(b)"
      ],
      "execution_count": null,
      "outputs": []
    },
    {
      "cell_type": "code",
      "metadata": {
        "colab": {
          "base_uri": "https://localhost:8080/"
        },
        "id": "qZ71EI0HsIO5",
        "outputId": "e4327e78-6808-438c-adeb-9365774e7160"
      },
      "source": [
        "harish = [34, 3, 23, 5, 20, 25]\n",
        "\n",
        "result = []\n",
        "for ele in harish:\n",
        "  if ele >= 20:\n",
        "    result.append(ele)\n",
        "print(result)"
      ],
      "execution_count": null,
      "outputs": [
        {
          "output_type": "stream",
          "text": [
            "[34, 23, 20, 25]\n"
          ],
          "name": "stdout"
        }
      ]
    },
    {
      "cell_type": "code",
      "metadata": {
        "colab": {
          "base_uri": "https://localhost:8080/"
        },
        "id": "7NYSnasuwTKU",
        "outputId": "a8f8bdba-a637-4b1b-c5b7-522785b90cd9"
      },
      "source": [
        "harish = [34, 73, 23, 5, 20, 5]\n",
        "\n",
        "result = [ele for ele in harish if ele >= 20]\n",
        "\n",
        "print(result)"
      ],
      "execution_count": null,
      "outputs": [
        {
          "output_type": "stream",
          "text": [
            "[34, 73, 23, 20]\n"
          ],
          "name": "stdout"
        }
      ]
    },
    {
      "cell_type": "code",
      "metadata": {
        "colab": {
          "base_uri": "https://localhost:8080/"
        },
        "id": "7fORaEM0sIdr",
        "outputId": "2ad505e1-7044-467f-ee0c-180f2e03b35a"
      },
      "source": [
        "harish = [34, 3, 23, 5, 20, 25]\n",
        "\n",
        "result = []\n",
        "for ele in harish:\n",
        "  if ele >= 20:\n",
        "    result.append(ele)\n",
        "  else:\n",
        "    result.append(ele * 2)\n",
        "print(result)"
      ],
      "execution_count": null,
      "outputs": [
        {
          "output_type": "stream",
          "text": [
            "[34, 6, 23, 10, 20, 25]\n"
          ],
          "name": "stdout"
        }
      ]
    },
    {
      "cell_type": "code",
      "metadata": {
        "colab": {
          "base_uri": "https://localhost:8080/"
        },
        "id": "AUX_LExVsIub",
        "outputId": "5c3e730c-e142-418e-862c-b97637105a66"
      },
      "source": [
        "harish = [34, 3, 23, 5, 20, 25]\n",
        "\n",
        "result = [ele if ele>= 20 else ele * 2 for ele in harish]\n",
        "\n",
        "print(result)"
      ],
      "execution_count": null,
      "outputs": [
        {
          "output_type": "stream",
          "text": [
            "[34, 6, 23, 10, 20, 25]\n"
          ],
          "name": "stdout"
        }
      ]
    },
    {
      "cell_type": "code",
      "metadata": {
        "colab": {
          "base_uri": "https://localhost:8080/"
        },
        "id": "U3SGDutbsI__",
        "outputId": "7f462195-c0e9-40d6-ef8f-c1ea4fa1e9b3"
      },
      "source": [
        "# https://leetcode.com/problems/create-target-array-in-the-given-order/\n",
        "#Input: nums = [0,1,2,3,4], index = [0,1,2,2,1]\n",
        "#Output: [0,4,1,3,2]\n",
        "nums = [0,1,2,3,4]\n",
        "index = [0,1,2,2,1]\n",
        "output = []\n",
        "n = len(nums)\n",
        "\n",
        "for i in range(n):\n",
        "  ele = nums[i]\n",
        "  inx = index[i]\n",
        "  output.insert(inx , ele )\n",
        "  print(output)"
      ],
      "execution_count": null,
      "outputs": [
        {
          "output_type": "stream",
          "text": [
            "[0]\n",
            "[0, 1]\n",
            "[0, 1, 2]\n",
            "[0, 1, 3, 2]\n",
            "[0, 4, 1, 3, 2]\n"
          ],
          "name": "stdout"
        }
      ]
    },
    {
      "cell_type": "code",
      "metadata": {
        "colab": {
          "base_uri": "https://localhost:8080/"
        },
        "id": "JjLZdUlirT5q",
        "outputId": "add391af-fae1-45de-caaf-4452531afee7"
      },
      "source": [
        "print( max(5, 10) )\n",
        "print( max(5, 10 , 8) )\n",
        "print( max(5, 10, 34, 21) )"
      ],
      "execution_count": null,
      "outputs": [
        {
          "output_type": "stream",
          "text": [
            "10\n",
            "10\n",
            "34\n"
          ],
          "name": "stdout"
        }
      ]
    },
    {
      "cell_type": "code",
      "metadata": {
        "id": "LY4bRXUT5-lJ",
        "outputId": "3f47d470-a5c5-4712-9e76-e0ffcc2cb807",
        "colab": {
          "base_uri": "https://localhost:8080/"
        }
      },
      "source": [
        "arr = [12, 23, 78 , 43 , 12, 65, 67, 32]   # 8\n",
        "key = 23\n",
        "\n",
        "\n",
        "#key in arr\n",
        "found = False\n",
        "for  ele in arr:\n",
        "  print(\"Hello\")\n",
        "  if ele == key:\n",
        "    found = True\n",
        "    break\n",
        "\n",
        "if found == True:\n",
        "  print(\"Found\")\n",
        "else:\n",
        "  print(\"Not Found\")"
      ],
      "execution_count": 4,
      "outputs": [
        {
          "output_type": "stream",
          "text": [
            "Hello\n",
            "Hello\n",
            "Found\n"
          ],
          "name": "stdout"
        }
      ]
    }
  ]
}